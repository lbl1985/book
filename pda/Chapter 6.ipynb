{
 "cells": [
  {
   "cell_type": "code",
   "execution_count": null,
   "id": "2d973d1c",
   "metadata": {},
   "outputs": [],
   "source": [
    "import pandas as pd\n",
    "import numpy as np\n",
    "DATA_PATH = r'/Users/lbl1985/source/pydata-book'\n",
    "\n",
    "df = pd.read_csv(DATA_PATH + '/examples/ex1.csv')\n",
    "df"
   ]
  },
  {
   "cell_type": "code",
   "execution_count": null,
   "id": "e67843d2",
   "metadata": {},
   "outputs": [],
   "source": [
    "pd.read_csv(DATA_PATH + '/examples/ex2.csv', header=None)"
   ]
  },
  {
   "cell_type": "code",
   "execution_count": null,
   "id": "617186f6",
   "metadata": {},
   "outputs": [],
   "source": [
    "pd.read_csv(DATA_PATH + '/examples/ex2.csv', names=[\"a\", \"b\", \"c\", \"d\", \"message\"])"
   ]
  },
  {
   "cell_type": "code",
   "execution_count": null,
   "id": "ef576df4",
   "metadata": {},
   "outputs": [],
   "source": [
    "names = [\"a\", \"b\", \"c\", \"d\", \"message\"]\n",
    "pd.read_csv(DATA_PATH + '/examples/ex2.csv', names=names, index_col='message')"
   ]
  },
  {
   "cell_type": "code",
   "execution_count": null,
   "id": "9ece5679",
   "metadata": {},
   "outputs": [],
   "source": [
    "pd.read_csv(DATA_PATH + '/examples/csv_mindex.csv', index_col=['key1', 'key2'])"
   ]
  },
  {
   "cell_type": "code",
   "execution_count": null,
   "id": "7231db80",
   "metadata": {},
   "outputs": [],
   "source": [
    "pd.read_csv(DATA_PATH + '/examples/csv_mindex.csv')"
   ]
  },
  {
   "cell_type": "code",
   "execution_count": null,
   "id": "e5aa996a",
   "metadata": {},
   "outputs": [],
   "source": [
    "pd.read_csv(DATA_PATH + '/examples/ex3.txt', sep='\\s+')"
   ]
  },
  {
   "cell_type": "code",
   "execution_count": null,
   "id": "26591d15",
   "metadata": {},
   "outputs": [],
   "source": [
    "pd.read_csv(DATA_PATH + '/examples/ex4.csv')"
   ]
  },
  {
   "cell_type": "code",
   "execution_count": null,
   "id": "5be7db5d",
   "metadata": {},
   "outputs": [],
   "source": [
    "pd.read_csv(DATA_PATH + '/examples/ex4.csv', skiprows=[0, 2, 3])\n",
    "# The first row is #hey!, instead of the header"
   ]
  },
  {
   "cell_type": "code",
   "execution_count": null,
   "id": "4555ab73",
   "metadata": {},
   "outputs": [],
   "source": [
    "with open(DATA_PATH + '/examples/ex4.csv', 'r') as f:\n",
    "    print(f.read())"
   ]
  },
  {
   "cell_type": "code",
   "execution_count": null,
   "id": "b9d7fd72",
   "metadata": {},
   "outputs": [],
   "source": [
    "pd.read_csv(DATA_PATH + \"/examples/ex5.csv\", na_values=[\"one\"])"
   ]
  },
  {
   "cell_type": "code",
   "execution_count": null,
   "id": "8ac61532",
   "metadata": {},
   "outputs": [],
   "source": [
    "pd.read_csv(DATA_PATH + \"/examples/ex5.csv\", na_values=[\"null\", \"NULL\", \"Null\", \"NA\", \"N/A\"])"
   ]
  },
  {
   "cell_type": "code",
   "execution_count": null,
   "id": "a41487b8",
   "metadata": {},
   "outputs": [],
   "source": [
    "pd.read_csv(DATA_PATH + \"/examples/ex5.csv\", keep_default_na=False)"
   ]
  },
  {
   "cell_type": "code",
   "execution_count": null,
   "id": "5d9e15ff",
   "metadata": {},
   "outputs": [],
   "source": [
    "pd.read_csv(DATA_PATH + \"/examples/ex5.csv\", keep_default_na=False).isna()\n",
    "# Because the keep_data_na=False, the empty and Na string are not converted/treated as NA any more. "
   ]
  },
  {
   "cell_type": "code",
   "execution_count": null,
   "id": "fcf07c8d",
   "metadata": {},
   "outputs": [],
   "source": []
  }
 ],
 "metadata": {
  "kernelspec": {
   "display_name": "Python 3 (ipykernel)",
   "language": "python",
   "name": "python3"
  },
  "language_info": {
   "codemirror_mode": {
    "name": "ipython",
    "version": 3
   },
   "file_extension": ".py",
   "mimetype": "text/x-python",
   "name": "python",
   "nbconvert_exporter": "python",
   "pygments_lexer": "ipython3",
   "version": "3.9.7"
  }
 },
 "nbformat": 4,
 "nbformat_minor": 5
}
